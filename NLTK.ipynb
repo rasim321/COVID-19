{
  "nbformat": 4,
  "nbformat_minor": 0,
  "metadata": {
    "colab": {
      "name": "NLTK.ipynb",
      "provenance": [],
      "authorship_tag": "ABX9TyMEZRkOjEX2Aa9eWZhu9FYf",
      "include_colab_link": true
    },
    "kernelspec": {
      "name": "python3",
      "display_name": "Python 3"
    }
  },
  "cells": [
    {
      "cell_type": "markdown",
      "metadata": {
        "id": "view-in-github",
        "colab_type": "text"
      },
      "source": [
        "<a href=\"https://colab.research.google.com/github/rasim321/COVID-19/blob/master/NLTK.ipynb\" target=\"_parent\"><img src=\"https://colab.research.google.com/assets/colab-badge.svg\" alt=\"Open In Colab\"/></a>"
      ]
    },
    {
      "cell_type": "code",
      "metadata": {
        "colab": {
          "base_uri": "https://localhost:8080/"
        },
        "id": "Es8x_aDz4QWg",
        "outputId": "6e8d85a1-3575-4765-fa4c-1684d4e43910"
      },
      "source": [
        "import nltk\r\n",
        "import re"
      ],
      "execution_count": 52,
      "outputs": [
        {
          "output_type": "stream",
          "text": [
            "[nltk_data] Downloading package averaged_perceptron_tagger to\n",
            "[nltk_data]     /root/nltk_data...\n",
            "[nltk_data]   Package averaged_perceptron_tagger is already up-to-\n",
            "[nltk_data]       date!\n"
          ],
          "name": "stdout"
        },
        {
          "output_type": "execute_result",
          "data": {
            "text/plain": [
              "True"
            ]
          },
          "metadata": {
            "tags": []
          },
          "execution_count": 52
        }
      ]
    },
    {
      "cell_type": "code",
      "metadata": {
        "id": "uMTB1Res4kW4"
      },
      "source": [
        "text = 'The D.C. Policy Center is looking for a researcher to work on economic and fiscal policy in the District of Columbia. The ideal candidate will have a strong background in economics and economic analysis and a deep interest in the District, will be adept with a variety of data sources, and be fluent in evaluating and applying high-quality policy research.The incumbent will focus on tracking, analyzing, and writing on economic conditions in the District of Columbia, and developing policies that can improve these conditions. Specifically, the incumbent will keep track of economic conditions including, but not limited to, labor market statistics, business formation and survival, income statistics, and other variables that allow for measuring the health and competitiveness of the District’s economy.This position is most suitable for a mid-career professional with previous experience in the responsibilities listed below and looking for growth in their responsibilities. The starting salary range is $70,000 to $85,000 commensurate with experience. D.C. Policy Center also offers health insurance benefits, contributions toward retirement savings, and provides a dynamic, flexible work environment.'\r\n",
        "\r\n",
        "tokens = nltk.word_tokenize(text)\r\n",
        "pos_tag = nltk.pos_tag(tokens)"
      ],
      "execution_count": 97,
      "outputs": []
    },
    {
      "cell_type": "code",
      "metadata": {
        "id": "KN1Y5m4O7i54"
      },
      "source": [
        "def action_phrase(pos_tag):\r\n",
        "  \"\"\"\r\n",
        "  Extract action phrases from a block of tagged text\r\n",
        "\r\n",
        "  Input: Parts of Speech tagged (using nltk) block of text\r\n",
        "  Output: Action phrases from the block of text\r\n",
        "  \"\"\"\r\n",
        "\r\n",
        "  #Create the empty output list\r\n",
        "  phrases = []\r\n",
        "\r\n",
        "  #And an empty string for phraes\r\n",
        "  phrase =''\r\n",
        "\r\n",
        "  #Set flag to False\r\n",
        "  flag = False\r\n",
        "\r\n",
        "  #Initiate loop\r\n",
        "  for i in pos_tag:\r\n",
        "    #For any word after a verb (when flag turns True) add these words to 'phrase'\r\n",
        "    if flag == True:\r\n",
        "      phrase = \" \".join([phrase, i[0]])\r\n",
        "\r\n",
        "    #If a word is a verb, check flag\r\n",
        "    #If flag is already true, just continue\r\n",
        "    #If new verb, add to phrase and turn flag from False to True\r\n",
        "    if (i[1] == 'VB' )|( i[1] == 'VBZ'):\r\n",
        "      if flag == True:\r\n",
        "        continue\r\n",
        "      else:\r\n",
        "        phrase = \" \".join([phrase, i[0]])\r\n",
        "        flag = True\r\n",
        "\r\n",
        "    #When period is detected, turn flag to False and start new iteration\r\n",
        "    #Append the phrase to phrases list\r\n",
        "    elif i[1] == '.':\r\n",
        "      flag = False\r\n",
        "      phrases.append(phrase)\r\n",
        "      phrase =''\r\n",
        "      continue\r\n",
        "\r\n",
        "    else:\r\n",
        "      continue\r\n",
        "\r\n",
        "      a, b in enumerate(iterable)\r\n",
        "\r\n",
        "  for a, b in enumerate(text_formatter(phrases)):\r\n",
        "    print(a, ': ', b)\r\n",
        "    "
      ],
      "execution_count": 89,
      "outputs": []
    },
    {
      "cell_type": "code",
      "metadata": {
        "colab": {
          "base_uri": "https://localhost:8080/"
        },
        "id": "edHi3wO8DoWS",
        "outputId": "c62a8ad8-d70e-4e77-85ae-830ac407a8cf"
      },
      "source": [
        "def text_formatter(phrases):\r\n",
        "  \"\"\"Formats the raw phrases into more readable format\r\n",
        "     \r\n",
        "     1) Remove all the spaces before commas\r\n",
        "     2) Strip the whitespaces in the beginning of phrases\r\n",
        "     3) Removes the whitespaces before \".\"\r\n",
        "     4) Returns the phrases in its original list\r\n",
        "\r\n",
        "     \"\"\"\r\n",
        "  for i in range(len(phrases)):\r\n",
        "    phrases[i] = phrases[i].replace(\" ,\", ',').strip().replace(\" .\", \".\")\r\n",
        "\r\n",
        "  return phrases\r\n",
        "\r\n",
        "text_formatter(phrases)\r\n",
        "\r\n"
      ],
      "execution_count": 68,
      "outputs": [
        {
          "output_type": "execute_result",
          "data": {
            "text/plain": [
              "['works with the AIET Director of Research and Policy and an AIET scholar in Foreign Policy to conceptualize, develop, and execute major research projects on AI and emerging technology policy.',\n",
              " 'have a strong background in both policy and technology, and familiarity with data analysis, software engineering, or machine learning.']"
            ]
          },
          "metadata": {
            "tags": []
          },
          "execution_count": 68
        }
      ]
    },
    {
      "cell_type": "code",
      "metadata": {
        "colab": {
          "base_uri": "https://localhost:8080/"
        },
        "id": "RenoeCcWIGzG",
        "outputId": "1531f5d0-2453-4186-a4eb-c336be8725b7"
      },
      "source": [
        "action_phrase(pos_tag)"
      ],
      "execution_count": 98,
      "outputs": [
        {
          "output_type": "stream",
          "text": [
            "0 :  is looking for a researcher to work on economic and fiscal policy in the District of Columbia.\n",
            "1 :  have a strong background in economics and economic analysis and a deep interest in the District, will be adept with a variety of data sources, and be fluent in evaluating and applying high-quality policy research.The incumbent will focus on tracking, analyzing, and writing on economic conditions in the District of Columbia, and developing policies that can improve these conditions.\n",
            "2 :  keep track of economic conditions including, but not limited to, labor market statistics, business formation and survival, income statistics, and other variables that allow for measuring the health and competitiveness of the District ’ s economy.This position is most suitable for a mid-career professional with previous experience in the responsibilities listed below and looking for growth in their responsibilities.\n",
            "3 :  is $ 70,000 to $ 85,000 commensurate with experience.\n",
            "4 :  offers health insurance benefits, contributions toward retirement savings, and provides a dynamic, flexible work environment.\n"
          ],
          "name": "stdout"
        }
      ]
    }
  ]
}